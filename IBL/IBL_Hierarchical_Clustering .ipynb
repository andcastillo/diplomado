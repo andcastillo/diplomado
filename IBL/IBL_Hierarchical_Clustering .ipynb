{
 "cells": [
  {
   "cell_type": "markdown",
   "metadata": {},
   "source": [
    "# Agrupamiento jerárquico (Hierarchical clustering)\n",
    "\n",
    "Cómo vimos al final de la sesión anterior, a veces no es claro cuántos grupos hay. Y a veces parece que existen grupos y dentro de ellos subgrupos. El agrupamiento jerárquico es un tipo de aprendizaje no supervisado que trata de encontrar este tipo de estructuras en los datos agrupando instancias dentro de una jerárquia que no está dada.\n",
    "Existen 2 tipos principales:\n",
    "  * Aglomerativo(bottom-up)\n",
    "  * Divisivo (top-down)\n",
    "https://joernhees.de/blog/2015/08/26/scipy-hierarchical-clustering-and-dendrogram-tutorial/"
   ]
  },
  {
   "cell_type": "code",
   "execution_count": null,
   "metadata": {},
   "outputs": [],
   "source": []
  }
 ],
 "metadata": {
  "kernelspec": {
   "display_name": "Python 3",
   "language": "python",
   "name": "python3"
  },
  "language_info": {
   "codemirror_mode": {
    "name": "ipython",
    "version": 3
   },
   "file_extension": ".py",
   "mimetype": "text/x-python",
   "name": "python",
   "nbconvert_exporter": "python",
   "pygments_lexer": "ipython3",
   "version": "3.5.4"
  }
 },
 "nbformat": 4,
 "nbformat_minor": 2
}
