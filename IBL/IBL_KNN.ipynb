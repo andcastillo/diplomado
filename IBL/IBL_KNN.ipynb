{
 "cells": [
  {
   "cell_type": "markdown",
   "metadata": {},
   "source": [
    "## K-Nearest Neighbor\n",
    "\n",
    "* Calcular la distancia entre un punto de prueba y cada instancia de entrenamiento.\n",
    "* Seleccione los _k_ ejemplos de entrenamiento más cercanos y asigne la categoría del punto de prueba a la categoría más común entre los vecinos más cercanos.\n",
    "* El voto entre varios vecinos ayuda a disminuir la suceptibilidad al ruido\n",
    "* Generalmente se usan valores impares de _k_ para evitar empates.\n",
    "  \n",
    "  Ejemplo usando los 5 vecinos más cercanos\n",
    "![title](img/knn1.png \"5 vecinos más cercanos\")"
   ]
  },
  {
   "cell_type": "markdown",
   "metadata": {},
   "source": [
    "## Clasificación usando los K-Nearest Neighbors: Función de clasificación implícita\n",
    "\n",
    "* Aunque no sea necesario calcular explicitamente esta función, las reglas de clasificación aprendidas del conjunto de datos, está basada en regiones del espacio de características.\n",
    "\n",
    "* A continuación usaremos el algoritmo de K-Nearest Neighbors para clasificar los datos del conjunto IRIS. El algoritmo de clasificación está implementado en sklearn *_(pip3 install sklearn)_*. Aquí podemos ver las regiones de clasificación en el espacio de 2 dimensiones para este conjunto de datos.\n",
    "\n"
   ]
  },
  {
   "cell_type": "code",
   "execution_count": 1,
   "metadata": {},
   "outputs": [
    {
     "name": "stdout",
     "output_type": "stream",
     "text": [
      "Automatically created module for IPython interactive environment\n"
     ]
    },
    {
     "ename": "ImportError",
     "evalue": "No module named 'matplotlib'",
     "output_type": "error",
     "traceback": [
      "\u001b[0;31m---------------------------------------------------------------------------\u001b[0m",
      "\u001b[0;31mImportError\u001b[0m                               Traceback (most recent call last)",
      "\u001b[0;32m<ipython-input-1-dc7e078f97b6>\u001b[0m in \u001b[0;36m<module>\u001b[0;34m()\u001b[0m\n\u001b[1;32m      2\u001b[0m \u001b[0;34m\u001b[0m\u001b[0m\n\u001b[1;32m      3\u001b[0m \u001b[0;32mimport\u001b[0m \u001b[0mnumpy\u001b[0m \u001b[0;32mas\u001b[0m \u001b[0mnp\u001b[0m\u001b[0;34m\u001b[0m\u001b[0m\n\u001b[0;32m----> 4\u001b[0;31m \u001b[0;32mimport\u001b[0m \u001b[0mmatplotlib\u001b[0m\u001b[0;34m.\u001b[0m\u001b[0mpyplot\u001b[0m \u001b[0;32mas\u001b[0m \u001b[0mplt\u001b[0m\u001b[0;34m\u001b[0m\u001b[0m\n\u001b[0m\u001b[1;32m      5\u001b[0m \u001b[0;32mfrom\u001b[0m \u001b[0mmatplotlib\u001b[0m\u001b[0;34m.\u001b[0m\u001b[0mcolors\u001b[0m \u001b[0;32mimport\u001b[0m \u001b[0mListedColormap\u001b[0m\u001b[0;34m\u001b[0m\u001b[0m\n\u001b[1;32m      6\u001b[0m \u001b[0;32mfrom\u001b[0m \u001b[0msklearn\u001b[0m \u001b[0;32mimport\u001b[0m \u001b[0mneighbors\u001b[0m\u001b[0;34m,\u001b[0m \u001b[0mdatasets\u001b[0m\u001b[0;34m\u001b[0m\u001b[0m\n",
      "\u001b[0;31mImportError\u001b[0m: No module named 'matplotlib'"
     ]
    }
   ],
   "source": [
    "print(__doc__)\n",
    "\n",
    "import numpy as np\n",
    "import matplotlib.pyplot as plt\n",
    "from matplotlib.colors import ListedColormap\n",
    "from sklearn import neighbors, datasets\n",
    "\n",
    "n_neighbors = 15\n",
    "\n",
    "# import some data to play with\n",
    "iris = datasets.load_iris()\n",
    "\n",
    "# we only take the first two features. We could avoid this ugly\n",
    "# slicing by using a two-dim dataset\n",
    "X = iris.data[:, :2]\n",
    "y = iris.target\n",
    "\n",
    "h = .02  # step size in the mesh\n",
    "\n",
    "# Create color maps\n",
    "cmap_light = ListedColormap(['#FFAAAA', '#AAFFAA', '#AAAAFF'])\n",
    "cmap_bold = ListedColormap(['#FF0000', '#00FF00', '#0000FF'])\n",
    "\n",
    "for weights in ['uniform', 'distance']:\n",
    "    # we create an instance of Neighbours Classifier and fit the data.\n",
    "    clf = neighbors.KNeighborsClassifier(n_neighbors, weights=weights)\n",
    "    clf.fit(X, y)\n",
    "\n",
    "    # Plot the decision boundary. For that, we will assign a color to each\n",
    "    # point in the mesh [x_min, x_max]x[y_min, y_max].\n",
    "    x_min, x_max = X[:, 0].min() - 1, X[:, 0].max() + 1\n",
    "    y_min, y_max = X[:, 1].min() - 1, X[:, 1].max() + 1\n",
    "    xx, yy = np.meshgrid(np.arange(x_min, x_max, h),\n",
    "                         np.arange(y_min, y_max, h))\n",
    "    Z = clf.predict(np.c_[xx.ravel(), yy.ravel()])\n",
    "\n",
    "    # Put the result into a color plot\n",
    "    Z = Z.reshape(xx.shape)\n",
    "    plt.figure()\n",
    "    plt.pcolormesh(xx, yy, Z, cmap=cmap_light)\n",
    "\n",
    "    # Plot also the training points\n",
    "    plt.scatter(X[:, 0], X[:, 1], c=y, cmap=cmap_bold,\n",
    "                edgecolor='k', s=20)\n",
    "    plt.xlim(xx.min(), xx.max())\n",
    "    plt.ylim(yy.min(), yy.max())\n",
    "    plt.title(\"3-Class classification (k = %i, weights = '%s')\"\n",
    "              % (n_neighbors, weights))\n",
    "\n",
    "plt.show()"
   ]
  },
  {
   "cell_type": "markdown",
   "metadata": {},
   "source": [
    "### Indexamiento eficiente\n",
    "\n",
    "* La búsqueda exahustiva para encontrar los vecinos más cercanos no es eficiente para conjuntos de datos grandes.\n",
    "* Indexar las estructuras(datos), puede acelarar la velocidad de las evaluaciones\n",
    "* Para la _distancia euclidiana_, un **__kd-tree__** puede ser construido para que redusca el tiempo esperado en la búsqueda de los vecinos más cercanos. De esta forma, en lugar de realizar __n__ búsquedas, el algoritmo solo debe realizar al rededor de __O(log n)__ comparaciones.\n",
    "* Otros tipos de indexamiento son posibles para otras métricas o datos de tipo texto(string)\n",
    "  - Índice invertido para recuperación de text"
   ]
  },
  {
   "cell_type": "markdown",
   "metadata": {},
   "source": [
    "## Regresión usando K-Nearest Neighbors\n",
    "\n",
    "* Este tipo de aprendizaje también puede ser usado para estimar valores de funciones de codominio real (regresión), tomando el promedio de los k vecinos más cercanos al punto de prueba. \n",
    "* También es posible usar todos los ejemplos del conjunto de entrenamiento para ayudar en la regresión, dejando que cada instancia contribuya con su valor, pesado por el inverso de la distancia al cuadrado de cada instancia al punto de prueba.\n",
    "\n",
    "En este ejemplo, veremos el uso de este algoritmo para realizar una regresión sobre un conjunto de datos artificial. Se debe usar regresión cuando el objetivo es una variable continua en lugar de una variable discreta."
   ]
  },
  {
   "cell_type": "code",
   "execution_count": 7,
   "metadata": {},
   "outputs": [
    {
     "name": "stdout",
     "output_type": "stream",
     "text": [
      "Automatically created module for IPython interactive environment\n"
     ]
    },
    {
     "data": {
      "image/png": "[encoded data removed]",
      "text/plain": [
       "<matplotlib.figure.Figure at 0x10b65c160>"
      ]
     },
     "metadata": {},
     "output_type": "display_data"
    }
   ],
   "source": [
    "print(__doc__)\n",
    "\n",
    "# Author: Alexandre Gramfort <alexandre.gramfort@inria.fr>\n",
    "#         Fabian Pedregosa <fabian.pedregosa@inria.fr>\n",
    "# License: BSD 3 clause (C) INRIA\n",
    "\n",
    "# #############################################################################\n",
    "# Generate sample data\n",
    "import numpy as np\n",
    "import matplotlib.pyplot as plt\n",
    "from sklearn import neighbors\n",
    "\n",
    "np.random.seed(0)\n",
    "X = np.sort(5 * np.random.rand(40, 1), axis=0)\n",
    "T = np.linspace(0, 5, 500)[:, np.newaxis]\n",
    "y = np.sin(X).ravel()\n",
    "\n",
    "# Add noise to targets\n",
    "y[::5] += 1 * (0.5 - np.random.rand(8))\n",
    "\n",
    "# #############################################################################\n",
    "# Fit regression model\n",
    "n_neighbors = 5\n",
    "\n",
    "for i, weights in enumerate(['uniform', 'distance']):\n",
    "    knn = neighbors.KNeighborsRegressor(n_neighbors, weights=weights)\n",
    "    y_ = knn.fit(X, y).predict(T)\n",
    "\n",
    "    plt.subplot(2, 1, i + 1)\n",
    "    plt.scatter(X, y, c='k', label='data')\n",
    "    plt.plot(T, y_, c='g', label='prediction')\n",
    "    plt.axis('tight')\n",
    "    plt.legend()\n",
    "    plt.title(\"KNeighborsRegressor (k = %i, weights = '%s')\" % (n_neighbors,\n",
    "                                                                weights))\n",
    "\n",
    "plt.show()"
   ]
  },
  {
   "cell_type": "markdown",
   "metadata": {},
   "source": [
    "## Relevancia de características y peso\n",
    "\n",
    "* Las medidas estándares dan igual peso a todas las características\n",
    "  - Es problematico si varias caracteristicas son irrelevantes, dado que el promedio usando ejemplos irrelevantes puede engañar al clasificador.\n",
    "* Las características pueden ser pesadas usando algúna medida de que tanto puede cada característica discriminar la categoría de un ejemplo por si sola. Por ejemplo _information gain_\n",
    "* En general, los métodos basados en instancias (IBL) favorecen la similitud global sobre el concepto de _simplicidad_"
   ]
  },
  {
   "cell_type": "markdown",
   "metadata": {},
   "source": [
    "## Reglas e Instancias en el sesgo del aprendizaje humano\n",
    "\n",
    "* Experimentos psicológicos han mostrado que personas de diferentes culturas, tienen sesgos distintos cuando deben categorizar.\n",
    "* Los \"occidentales\" favorecen las reglas simples.\n",
    "* Los \"asiáticos\" favorecen el concepto de similitud global.\n",
    "\n",
    "En en que grupo clasificarian la flor de la siguiente imagen:\n",
    "\n",
    "![title](img/ibl.png \"ejemplo\")\n"
   ]
  },
  {
   "cell_type": "markdown",
   "metadata": {},
   "source": [
    "## Algunas consideraciones\n",
    "\n",
    "* Se puede reducir el almacemiento de instancias de entrenamiento, si se eligen instancias _\"representativas\"_\n",
    "  - Por ejemplo las máquinas de vectores (SVM) de soporte son algo parecido\n",
    "* Se puede hybridizar con métodos basados en reglas o redes neuronales\n",
    "* Puede ser usado para datos de tipo muy complejo, como grafos, solo se necesita una forma de medir distancias entre los objetos\n",
    "* Puede ser usado en problemas diferentes a la clasificación y la regresión\n",
    "  - Planeamiento basado en casos\n",
    "  - Rasonamiento basado en casos en leyes y negocios\n",
    "\n",
    "# Conclusiones\n",
    "\n",
    "* Los métodos basados en instancias (IBL) trabajan usando el concepto de distancia a un conjunto específico de instancias de entrenamiento, en lugar de tratar de aprender modelos generalizadores.\n",
    "* Típicamente, el tiempo de entrenamiento es corto, pero el tiempo de evaluación es largo"
   ]
  }
 ],
 "metadata": {
  "kernelspec": {
   "display_name": "Python 3",
   "language": "python",
   "name": "python3"
  },
  "language_info": {
   "codemirror_mode": {
    "name": "ipython",
    "version": 3
   },
   "file_extension": ".py",
   "mimetype": "text/x-python",
   "name": "python",
   "nbconvert_exporter": "python",
   "pygments_lexer": "ipython3",
   "version": "3.6.3"
  }
 },
 "nbformat": 4,
 "nbformat_minor": 2
}
